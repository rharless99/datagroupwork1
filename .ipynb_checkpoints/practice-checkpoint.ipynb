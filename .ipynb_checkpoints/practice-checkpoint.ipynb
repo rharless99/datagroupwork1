{
 "cells": [
  {
   "cell_type": "code",
   "execution_count": 1,
   "metadata": {},
   "outputs": [],
   "source": [
    "import requests\n",
    "import json\n",
    "import numpy as np\n",
    "url=\"https://traffic.ls.hereapi.com/traffic/6.3/incidents.json\"\n",
    "api=\"lvXr6qU7Ie6GPwvxuguENZkwlFwwPvmhn6TrhbJZNyc\"\n",
    "app=\"ZXtw3MzxgiRuoeNkwqFS\"\n",
    "bbs=\"52.53087,13.44176,5000\"\n",
    "token=\"PpJZ5o1PCV6oUSb1Ki-s4Q\"\n",
    "test=\"https://traffic.ls.hereapi.com/traffic/6.3/incidents.json?apiKey={0}&bbox={1}\"\n",
    "fuel=\"https://fuel-v2.cit.cc.api.here.com/fuel/stations.json?app_id={0}&app_code={1}&prox={2}&fueltype={3}\"\n",
    "url1=\"https://fuel-v2.cit.cc.ls.api.here.com/fuel/stations.json\n",
    "-H \"Authorization: Bearer {YOUR_TOKEN}\""
   ]
  },
  {
   "cell_type": "code",
   "execution_count": 2,
   "metadata": {},
   "outputs": [
    {
     "data": {
      "text/plain": [
       "'https://fuel-v2.cit.cc.api.here.com/fuel/stations.json?app_id=lvXr6qU7Ie6GPwvxuguENZkwlFwwPvmhn6TrhbJZNyc&app_code=ZXtw3MzxgiRuoeNkwqFS&prox=52.53087,13.44176,5000&fueltype=1'"
      ]
     },
     "execution_count": 2,
     "metadata": {},
     "output_type": "execute_result"
    }
   ],
   "source": [
    "fuel.format(api,app,bbs,1)"
   ]
  },
  {
   "cell_type": "code",
   "execution_count": 3,
   "metadata": {},
   "outputs": [
    {
     "data": {
      "text/plain": [
       "{'Type': 'Unauthorized',\n",
       " 'Message': ['These credentials do not authorize access']}"
      ]
     },
     "execution_count": 3,
     "metadata": {},
     "output_type": "execute_result"
    }
   ],
   "source": [
    "response=requests.get(fuel.format(api,app,bbs,1))\n",
    "response.json()"
   ]
  },
  {
   "cell_type": "code",
   "execution_count": null,
   "metadata": {},
   "outputs": [],
   "source": []
  }
 ],
 "metadata": {
  "kernelspec": {
   "display_name": "Python 3.7.6 64-bit ('base': conda)",
   "language": "python",
   "name": "python37664bitbasecondaabd722cf7d644cb7a9e67a3e156c5d8a"
  },
  "language_info": {
   "codemirror_mode": {
    "name": "ipython",
    "version": 3
   },
   "file_extension": ".py",
   "mimetype": "text/x-python",
   "name": "python",
   "nbconvert_exporter": "python",
   "pygments_lexer": "ipython3",
   "version": "3.7.6"
  }
 },
 "nbformat": 4,
 "nbformat_minor": 4
}
